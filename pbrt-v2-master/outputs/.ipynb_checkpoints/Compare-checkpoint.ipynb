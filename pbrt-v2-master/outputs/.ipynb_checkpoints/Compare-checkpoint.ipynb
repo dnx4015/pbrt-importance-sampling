{
 "metadata": {
  "name": "",
  "signature": "sha256:fb0868a9e957f3286b93bb2a01a92714b689a2eb1e5acc7ea28782b371010968"
 },
 "nbformat": 3,
 "nbformat_minor": 0,
 "worksheets": [
  {
   "cells": [
    {
     "cell_type": "code",
     "collapsed": false,
     "input": [
      "import re\n",
      "#from skimage.measure import structural_similarity as ssim\n",
      "import subprocess\n",
      "import cv2\n",
      "from os import system\n",
      "from os import walk\n",
      "import numpy as np\n",
      "\n",
      "def tryint(s):\n",
      "    try:\n",
      "        return int(s)\n",
      "    except:\n",
      "        return s\n",
      "\n",
      "def alphanum_key(s):\n",
      "    \"\"\" Turn a string into a list of string and number chunks.\n",
      "        \"z23a\" -> [\"z\", 23, \"a\"]\n",
      "    \"\"\"\n",
      "    return [ tryint(c) for c in re.split('([0-9]+)', s) ]\n",
      "\n",
      "def sort_nicely(l):\n",
      "    \"\"\" Sort the given list in the way that humans expect.\n",
      "    \"\"\"\n",
      "    l.sort(key=alphanum_key)\n",
      "    \n",
      "    \n",
      "def mse(imageA, imageB):\n",
      "    err = np.sum((imageA.astype(\"float\") - imageB.astype(\"float\")) ** 2)\n",
      "    err /= float(imageA.shape[0] * imageA.shape[1])\n",
      "    return err    \n",
      "\n",
      "folder = \"01DP\"\n",
      "brdfs = [\"nickel\", \"blue-metallic\", \"plastic\"]\n",
      "\n",
      "for brdf in brdfs:\n",
      "    f = []\n",
      "    path = folder+\"/exr/\"+brdf+\"/\"\n",
      "    path2 = folder+\"/diff3/\"+brdf+\"/\"\n",
      "    original = \"originals/\"+brdf+\".exr\"\n",
      "    for (dirpath, dirnames, filenames) in walk(path):\n",
      "        f.extend(filenames)\n",
      "        break\n",
      "    sort_nicely(f)\n",
      "    diffFile = folder+\"/results/\"+brdf+\"/compareFileOriginalCV2.txt\"\n",
      "    with open(diffFile, \"w\") as fout:\n",
      "        for fname in f:\n",
      "            out = path2 + str(fname[:-3]) + \"jpg\"\n",
      "            orgImg = cv2.imread(original)\n",
      "            othImg = cv2.imread(path+fname)\n",
      "            outImg = abs(orgImg - othImg)\n",
      "            cv2.imwrite(out, outImg)\n",
      "            m = mse(orgImg, othImg)\n",
      "           # s = ssim(imageA, imageB)\n",
      "            #output = \"mse:\" + \"{0:.5f}\".format(mPDist)\n",
      "            output = \"mse:\" + str(m) + \"\\n\"\n",
      "            #output += \"ssim:\" + str(s) + \"\\n\"\n",
      "            fout.write(fname+\"\\n\")\n",
      "            fout.write(output+\"\\n\\n\")\n",
      "\n",
      "print 'Done'"
     ],
     "language": "python",
     "metadata": {},
     "outputs": [
      {
       "ename": "NameError",
       "evalue": "name 'imageA' is not defined",
       "output_type": "pyerr",
       "traceback": [
        "\u001b[1;31m---------------------------------------------------------------------------\u001b[0m\n\u001b[1;31mNameError\u001b[0m                                 Traceback (most recent call last)",
        "\u001b[1;32m<ipython-input-24-bd8458ba1792>\u001b[0m in \u001b[0;36m<module>\u001b[1;34m()\u001b[0m\n\u001b[0;32m     50\u001b[0m             \u001b[0moutImg\u001b[0m \u001b[1;33m=\u001b[0m \u001b[0mabs\u001b[0m\u001b[1;33m(\u001b[0m\u001b[0morgImg\u001b[0m \u001b[1;33m-\u001b[0m \u001b[0mothImg\u001b[0m\u001b[1;33m)\u001b[0m\u001b[1;33m\u001b[0m\u001b[0m\n\u001b[0;32m     51\u001b[0m             \u001b[0mcv2\u001b[0m\u001b[1;33m.\u001b[0m\u001b[0mimwrite\u001b[0m\u001b[1;33m(\u001b[0m\u001b[0mout\u001b[0m\u001b[1;33m,\u001b[0m \u001b[0moutImg\u001b[0m\u001b[1;33m)\u001b[0m\u001b[1;33m\u001b[0m\u001b[0m\n\u001b[1;32m---> 52\u001b[1;33m             \u001b[0mm\u001b[0m \u001b[1;33m=\u001b[0m \u001b[0mmse\u001b[0m\u001b[1;33m(\u001b[0m\u001b[0mimageA\u001b[0m\u001b[1;33m,\u001b[0m \u001b[0mimageB\u001b[0m\u001b[1;33m)\u001b[0m\u001b[1;33m\u001b[0m\u001b[0m\n\u001b[0m\u001b[0;32m     53\u001b[0m            \u001b[1;31m# s = ssim(imageA, imageB)\u001b[0m\u001b[1;33m\u001b[0m\u001b[1;33m\u001b[0m\u001b[0m\n\u001b[0;32m     54\u001b[0m             \u001b[1;31m#output = \"mse:\" + \"{0:.5f}\".format(mPDist)\u001b[0m\u001b[1;33m\u001b[0m\u001b[1;33m\u001b[0m\u001b[0m\n",
        "\u001b[1;31mNameError\u001b[0m: name 'imageA' is not defined"
       ]
      }
     ],
     "prompt_number": 24
    },
    {
     "cell_type": "code",
     "collapsed": false,
     "input": [],
     "language": "python",
     "metadata": {},
     "outputs": []
    },
    {
     "cell_type": "code",
     "collapsed": false,
     "input": [],
     "language": "python",
     "metadata": {},
     "outputs": []
    }
   ],
   "metadata": {}
  }
 ]
}