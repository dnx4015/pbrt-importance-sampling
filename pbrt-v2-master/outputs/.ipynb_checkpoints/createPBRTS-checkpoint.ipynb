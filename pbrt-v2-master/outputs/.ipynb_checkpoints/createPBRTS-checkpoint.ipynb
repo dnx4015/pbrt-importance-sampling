{
 "metadata": {
  "name": "",
  "signature": "sha256:feb2f1cc478d730a9a000868d769d1dc9946ba4af1f3c852a03e0e155d7848ac"
 },
 "nbformat": 3,
 "nbformat_minor": 0,
 "worksheets": [
  {
   "cells": [
    {
     "cell_type": "code",
     "collapsed": false,
     "input": [
      "BRDFS = [\"nickel\", \"blue-metallic\", \"plastic\"]\n",
      "BIN = \".binary\"\n",
      "FOLDERS = \\\n",
      "[\"01DP\"]\n",
      "#[\"02VW\"]\n",
      "#[\"03RD\"]\n",
      "#[\"04PD\"]\n",
      "#[\"05RW\"]\n",
      "#[\"06OP\"]\n",
      "#[\"07LA\"]\n",
      "\n",
      "def geomProgression(init, size, step):\n",
      "    l = [1]*size\n",
      "    n = init\n",
      "    for i in range(size):\n",
      "        l[i] = n\n",
      "        n *= step\n",
      "    return list(reversed(l))\n",
      "\n",
      "maxSizeRange = [i for i in range(5, 31, 5)] #6\n",
      "minPDistRange = geomProgression(0.1, 5, 0.1)\n",
      "minRDistRange = geomProgression(0.1, 5, 0.1)\n",
      "mRDist = 0.01\n",
      "mPDist = 0.01"
     ],
     "language": "python",
     "metadata": {},
     "outputs": [],
     "prompt_number": 13
    },
    {
     "cell_type": "code",
     "collapsed": false,
     "input": [
      "from jinja2 import Environment, FileSystemLoader\n",
      "env = Environment(loader=FileSystemLoader('.'))\n",
      "template = env.get_template('template.pbrt')\n",
      "for brdfFilename in BRDFS:\n",
      "    for compression, folder in enumerate(FOLDERS):\n",
      "        for mSize in maxSizeRange:\n",
      "            for mPDist in minPDistRange:\n",
      "         #       for mRDist in minRDistRange:\n",
      "                    fname=\"maxSize\"+str(mSize)+\\\n",
      "                    \"_minPDist\"+str(mPDist)#+\\\n",
      "                    #\"_minRDist\"+str(mRDist)\n",
      "                    render = template.render(filename=folder+\"/exr/\"+\n",
      "                                             brdfFilename+\"/\"\n",
      "                                             +fname+\".exr\",\n",
      "                                             brdf=brdfFilename+BIN,\n",
      "                                             comp=compression,\n",
      "                                             maxSize=mSize,\n",
      "                                             minPDist=mPDist,\n",
      "                                             minRDist=mRDist)\n",
      "                    with open(folder+'/pbrt/'+brdfFilename+\"/\"+\\\n",
      "                              fname+'.pbrt', 'w') as output:\n",
      "                        output.write(render)\n"
     ],
     "language": "python",
     "metadata": {},
     "outputs": [],
     "prompt_number": 14
    },
    {
     "cell_type": "code",
     "collapsed": false,
     "input": [],
     "language": "python",
     "metadata": {},
     "outputs": [],
     "prompt_number": 16
    },
    {
     "cell_type": "code",
     "collapsed": false,
     "input": [],
     "language": "python",
     "metadata": {},
     "outputs": []
    }
   ],
   "metadata": {}
  }
 ]
}