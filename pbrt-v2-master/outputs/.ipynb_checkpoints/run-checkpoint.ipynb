{
 "metadata": {
  "name": "",
  "signature": "sha256:505254dc522fa69b9ef6b0785c2a96ce82caec28cd5065ca34898b20a4203457"
 },
 "nbformat": 3,
 "nbformat_minor": 0,
 "worksheets": [
  {
   "cells": [
    {
     "cell_type": "code",
     "collapsed": false,
     "input": [
      "import subprocess\n",
      "from os import walk\n",
      "DIR = \"/media/dnx/DnX Data/Dropbox/Education/USP/master2/Grafica/pbrt-importance-sampling/pbrt-v2-master/outputs\"\n",
      "FOLDERS = [\"06OP\"]\n",
      "brdfs = [\n",
      "\"nickel\", \n",
      "\"blue-metallic\",\n",
      "\"plastic\"\n",
      "]\n",
      "\n",
      "for folder in FOLDERS:\n",
      "    for brdf in brdfs:\n",
      "        f = []\n",
      "        path = folder+\"/pbrt/\"+brdf+\"/\"\n",
      "        for (dirpath, dirnames, filenames) in walk(path):\n",
      "            f.extend(filenames)\n",
      "            break\n",
      "        for fname in f:\n",
      "            results = folder+\"/results/\"+brdf+\"/\"+fname[:-4]+\"txt\"\n",
      "            print results\n",
      "            with open(results, \"w\") as fout:\n",
      "                output = subprocess.check_output(['../src/bin/pbrt', path+fname])\n",
      "                fout.write(\"avg\" + fname+\"\\n\")\n",
      "                fout.write(output)\n",
      "            with open(results) as f:\n",
      "                lines = f.readlines()\n",
      "            with open(results, 'w') as f:\n",
      "                for line in lines:\n",
      "                    if line[:3] == \"avg\":\n",
      "                        f.write(line)\n",
      "print 'Done'"
     ],
     "language": "python",
     "metadata": {},
     "outputs": [
      {
       "output_type": "stream",
       "stream": "stdout",
       "text": [
        "07LA/results/nickel/minPDist0.00010.txt\n",
        "07LA/results/nickel/minPDist0.00001.txt"
       ]
      },
      {
       "output_type": "stream",
       "stream": "stdout",
       "text": [
        "\n",
        "07LA/results/nickel/minPDist0.00100.txt"
       ]
      },
      {
       "output_type": "stream",
       "stream": "stdout",
       "text": [
        "\n",
        "07LA/results/nickel/minPDist0.10000.txt"
       ]
      },
      {
       "output_type": "stream",
       "stream": "stdout",
       "text": [
        "\n",
        "07LA/results/nickel/minPDist0.01000.txt"
       ]
      },
      {
       "output_type": "stream",
       "stream": "stdout",
       "text": [
        "\n",
        "07LA/results/blue-metallic/minPDist0.00010.txt"
       ]
      },
      {
       "output_type": "stream",
       "stream": "stdout",
       "text": [
        "\n",
        "07LA/results/blue-metallic/minPDist0.00001.txt"
       ]
      },
      {
       "output_type": "stream",
       "stream": "stdout",
       "text": [
        "\n",
        "07LA/results/blue-metallic/minPDist0.00100.txt"
       ]
      },
      {
       "output_type": "stream",
       "stream": "stdout",
       "text": [
        "\n",
        "07LA/results/blue-metallic/minPDist0.10000.txt"
       ]
      },
      {
       "output_type": "stream",
       "stream": "stdout",
       "text": [
        "\n",
        "07LA/results/blue-metallic/minPDist0.01000.txt"
       ]
      },
      {
       "output_type": "stream",
       "stream": "stdout",
       "text": [
        "\n",
        "07LA/results/plastic/minPDist0.00010.txt"
       ]
      },
      {
       "output_type": "stream",
       "stream": "stdout",
       "text": [
        "\n",
        "07LA/results/plastic/minPDist0.00001.txt"
       ]
      },
      {
       "output_type": "stream",
       "stream": "stdout",
       "text": [
        "\n",
        "07LA/results/plastic/minPDist0.00100.txt"
       ]
      },
      {
       "output_type": "stream",
       "stream": "stdout",
       "text": [
        "\n",
        "07LA/results/plastic/minPDist0.10000.txt"
       ]
      },
      {
       "output_type": "stream",
       "stream": "stdout",
       "text": [
        "\n",
        "07LA/results/plastic/minPDist0.01000.txt"
       ]
      },
      {
       "output_type": "stream",
       "stream": "stdout",
       "text": [
        "\n",
        "Done"
       ]
      },
      {
       "output_type": "stream",
       "stream": "stdout",
       "text": [
        "\n"
       ]
      }
     ],
     "prompt_number": 3
    },
    {
     "cell_type": "code",
     "collapsed": false,
     "input": [],
     "language": "python",
     "metadata": {},
     "outputs": []
    }
   ],
   "metadata": {}
  }
 ]
}