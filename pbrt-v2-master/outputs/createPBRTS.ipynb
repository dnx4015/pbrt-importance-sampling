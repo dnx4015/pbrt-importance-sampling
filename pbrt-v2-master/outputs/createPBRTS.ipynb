{
 "metadata": {
  "name": "",
  "signature": "sha256:766c3ad4f19b9df4350c187c035c88c60b2aa2a8f31de3f4c6681fc61e3074d5"
 },
 "nbformat": 3,
 "nbformat_minor": 0,
 "worksheets": [
  {
   "cells": [
    {
     "cell_type": "code",
     "collapsed": false,
     "input": [
      "BRDFS = [\"nickel\", \"blue-metallic\", \"plastic\"]\n",
      "BIN = \".binary\"\n",
      "def geomProgression(init, size, step):\n",
      "    l = [1]*size\n",
      "    n = init\n",
      "    for i in range(size):\n",
      "        l[i] = n\n",
      "        n *= step\n",
      "    return list(reversed(l))\n",
      "\n",
      "maxSizeRange = [i for i in range(5, 31, 5)] #6\n",
      "minPDistRange = geomProgression(0.1, 5, 0.1)\n",
      "minRDistRange = geomProgression(0.1, 5, 0.1)\n",
      "mRDist = 0.01\n",
      "mPDist = 0.01\n"
     ],
     "language": "python",
     "metadata": {},
     "outputs": [],
     "prompt_number": 5
    },
    {
     "cell_type": "code",
     "collapsed": false,
     "input": [
      "FOLDERS =[\"06OP\"]\n",
      "from jinja2 import Environment, FileSystemLoader\n",
      "env = Environment(loader=FileSystemLoader('.'))\n",
      "template = env.get_template('template.pbrt')\n",
      "for brdfFilename in BRDFS:\n",
      "    for compression, folder in enumerate(FOLDERS):\n",
      "        #for mSize in maxSizeRange:\n",
      "            for mPDist in minPDistRange:\n",
      "                for mRDist in minRDistRange:\n",
      "                    fname=\"minPDist\"+\"{0:.5f}\".format(mPDist) +\\\n",
      "                            \"_minRDist\"+\"{0:.5f}\".format(mRDist)\n",
      "                    render = template.render(filename=folder+\"/exr/\"+\n",
      "                                             brdfFilename+\"/\"\n",
      "                                             +fname+\".exr\",\n",
      "                                             brdf=brdfFilename+BIN,\n",
      "                                             comp=5,\n",
      "                                             maxSize=mSize,\n",
      "                                             minPDist=mPDist,\n",
      "                                             minRDist=mRDist)\n",
      "                    with open(folder+'/pbrt/'+brdfFilename+\"/\"+\\\n",
      "                              fname+'.pbrt', 'w') as output:\n",
      "                        output.write(render)\n",
      "print \"Done\"\n"
     ],
     "language": "python",
     "metadata": {},
     "outputs": [
      {
       "output_type": "stream",
       "stream": "stdout",
       "text": [
        "Done\n"
       ]
      }
     ],
     "prompt_number": 20
    },
    {
     "cell_type": "code",
     "collapsed": false,
     "input": [],
     "language": "python",
     "metadata": {},
     "outputs": [],
     "prompt_number": 16
    },
    {
     "cell_type": "code",
     "collapsed": false,
     "input": [],
     "language": "python",
     "metadata": {},
     "outputs": []
    }
   ],
   "metadata": {}
  }
 ]
}