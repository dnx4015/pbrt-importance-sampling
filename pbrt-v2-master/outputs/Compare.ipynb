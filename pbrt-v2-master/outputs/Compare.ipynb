{
 "metadata": {
  "name": "",
  "signature": "sha256:7f43ab86a4896a4ae423077d941d3d581bf44e42974bcc17ce87a1de854a139e"
 },
 "nbformat": 3,
 "nbformat_minor": 0,
 "worksheets": [
  {
   "cells": [
    {
     "cell_type": "code",
     "collapsed": false,
     "input": [
      "import re\n",
      "#from skimage.measure import structural_similarity as ssim\n",
      "import subprocess\n",
      "import cv2\n",
      "from os import system\n",
      "from os import walk\n",
      "import numpy as np\n",
      "\n",
      "def tryint(s):\n",
      "    try:\n",
      "        return int(s)\n",
      "    except:\n",
      "        return s\n",
      "\n",
      "def alphanum_key(s):\n",
      "    \"\"\" Turn a string into a list of string and number chunks.\n",
      "        \"z23a\" -> [\"z\", 23, \"a\"]\n",
      "    \"\"\"\n",
      "    return [ tryint(c) for c in re.split('([0-9]+)', s) ]\n",
      "\n",
      "def sort_nicely(l):\n",
      "    \"\"\" Sort the given list in the way that humans expect.\n",
      "    \"\"\"\n",
      "    l.sort(key=alphanum_key)\n",
      "    \n",
      "    \n",
      "def mse(imageA, imageB):\n",
      "    err = np.sum((imageA.astype(\"float\") - imageB.astype(\"float\")) ** 2)\n",
      "    err /= float(imageA.shape[0] * imageA.shape[1])\n",
      "    return err    \n",
      "\n",
      "folder = \"01DP\"\n",
      "brdfs = [\"nickel\", \"blue-metallic\", \"plastic\"]\n",
      "\n",
      "for brdf in brdfs:\n",
      "    f = []\n",
      "    path = folder+\"/exr/\"+brdf+\"/\"\n",
      "    path2 = folder+\"/diff3/\"+brdf+\"/\"\n",
      "    original = \"originals/\"+brdf+\".exr\"\n",
      "    for (dirpath, dirnames, filenames) in walk(path):\n",
      "        f.extend(filenames)\n",
      "        break\n",
      "    sort_nicely(f)\n",
      "    diffFile = folder+\"/results/\"+brdf+\"/compareFileOriginalCV2.txt\"\n",
      "    with open(diffFile, \"w\") as fout:\n",
      "        for fname in f:\n",
      "            out = path2 + str(fname[:-3]) + \"jpg\"\n",
      "            orgImg = cv2.imread(original)\n",
      "            othImg = cv2.imread(path+fname)\n",
      "            outImg = abs(orgImg - othImg)\n",
      "            cv2.imwrite(out, outImg)\n",
      "            m = mse(orgImg, othImg)\n",
      "           # s = ssim(imageA, imageB)\n",
      "            #output = \"mse:\" + \"{0:.5f}\".format(mPDist)\n",
      "            output = \"mse:\" + str(m) + \"\\n\"\n",
      "            #output += \"ssim:\" + str(s) + \"\\n\"\n",
      "            fout.write(fname+\"\\n\")\n",
      "            fout.write(output+\"\\n\\n\")\n",
      "\n",
      "print 'Done'"
     ],
     "language": "python",
     "metadata": {},
     "outputs": [
      {
       "output_type": "stream",
       "stream": "stdout",
       "text": [
        "Done\n"
       ]
      }
     ],
     "prompt_number": 27
    },
    {
     "cell_type": "code",
     "collapsed": false,
     "input": [],
     "language": "python",
     "metadata": {},
     "outputs": []
    },
    {
     "cell_type": "code",
     "collapsed": false,
     "input": [],
     "language": "python",
     "metadata": {},
     "outputs": []
    }
   ],
   "metadata": {}
  }
 ]
}